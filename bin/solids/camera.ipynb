{
 "metadata": {
  "language_info": {
   "codemirror_mode": {
    "name": "ipython",
    "version": 3
   },
   "file_extension": ".py",
   "mimetype": "text/x-python",
   "name": "python",
   "nbconvert_exporter": "python",
   "pygments_lexer": "ipython3",
   "version": "3.8.5"
  },
  "orig_nbformat": 2,
  "kernelspec": {
   "name": "python385jvsc74a57bd0c0e1c6bb20b42d0a5dfb9a16c50342395130a16d9fc028d7adb0655827571d5e",
   "display_name": "Python 3.8.5 64-bit ('situated-views-MbewxhNx': pipenv)"
  }
 },
 "nbformat": 4,
 "nbformat_minor": 2,
 "cells": [
  {
   "source": [
    "import pandas as pd\n",
    "import numpy as np\n",
    "import geopandas as gpd\n",
    "import shapely\n",
    "from pykml import parser\n",
    "# from lxml import etree\n",
    "import mercantile\n",
    "import os\n",
    "import re\n",
    "import requests\n",
    "from PIL import Image"
   ],
   "cell_type": "code",
   "metadata": {},
   "execution_count": 16,
   "outputs": []
  },
  {
   "cell_type": "code",
   "execution_count": 214,
   "metadata": {},
   "outputs": [],
   "source": [
    "with open(\"/mnt/d/dev/situated-views/data-in/kml-sessions/001ALA011001.kml\", \"r+\") as f:\n",
    "    kml_str = f.read()\n",
    "    parsed = parser.fromstring(kml_str)\n",
    "    parsed.PhotoOverlay.Camera.altitude = 500\n",
    "    str = etree.tostring(parsed, pretty_print=True)\n",
    "    f.seek(0)\n",
    "    f.write(str.decode(\"utf-8\"))\n",
    "    f.truncate()\n",
    "    #with open(\"/mnt/d/dev/situated-views/data-in/test.kml\", \"w\") as k:\n",
    "    #    k.write(str.decode(\"utf-8\"))"
   ]
  },
  {
   "cell_type": "code",
   "execution_count": 8,
   "metadata": {},
   "outputs": [],
   "source": [
    "def find_with_re(property, string):\n",
    "    return re.search(f\"(?<=<{property}>).+(?=<\\/{property}>)\", string).group(0)"
   ]
  },
  {
   "cell_type": "code",
   "execution_count": 50,
   "metadata": {},
   "outputs": [],
   "source": [
    "def split_photooverlays(kml_folder, delete_original=False):\n",
    "    with open(kml_folder, \"r\") as f:\n",
    "        txt = f.read()\n",
    "        header = \"\\n\".join(txt.split(\"\\n\")[:2])\n",
    "        photooverlays = re.split(\".(?=<PhotoOverlay>)\", txt)[1:]\n",
    "    for po in photooverlays:\n",
    "        filename = find_with_re(\"name\", po)\n",
    "        with open(os.path.join(os.path.dirname(kml_folder), filename + \".kml\"), \"w\") as k:\n",
    "            k.write(f\"{header}\\n{po}</kml>\")\n",
    "    if delete_original:\n",
    "        os.remove(os.path.abspath(kml_folder))"
   ]
  },
  {
   "cell_type": "code",
   "execution_count": 238,
   "metadata": {},
   "outputs": [],
   "source": [
    "split_photooverlays(\"/mnt/d/dev/situated-views/data-in/kml-sessions/2019-04-12-Davi.kml\")"
   ]
  },
  {
   "cell_type": "code",
   "execution_count": 5,
   "metadata": {},
   "outputs": [],
   "source": [
    "def change_img_href(kml):\n",
    "    with open(kml, \"r+\") as f:\n",
    "        txt = f.read()\n",
    "        filename = find_with_re(\"name\", txt)\n",
    "        txt = re.sub(\n",
    "        \"(?<=<href>).+(?=<\\/href>\\n\\t+<\\/Icon>\\n\\t+<ViewVolume>)\",\n",
    "        f\"https://rioiconography.sfo2.digitaloceanspaces.com/situatedviews/{filename}.jpg\",\n",
    "        txt\n",
    "        )\n",
    "        f.seek(0)\n",
    "        f.write(txt)\n",
    "        f.truncate()"
   ]
  },
  {
   "cell_type": "code",
   "execution_count": 19,
   "metadata": {},
   "outputs": [],
   "source": [
    "def correct_altitude_mode():\n",
    "    with open(\"/mnt/d/dev/situated-views/data-in/kml-sessions/001ALA011001.kml\", \"r+\") as f:\n",
    "        txt = f.read()\n",
    "        if re.search(\"(?<=<altitudeMode>)relative(?=<\\/altitudeMode>)\", txt):\n",
    "            lat = float(find_with_re(\"latitude\", txt))\n",
    "            lon = float(find_with_re(\"longitude\", txt))\n",
    "            alt = float(find_with_re(\"altitude\", txt))\n",
    "        z = 15\n",
    "        x = mercantile.tile(lon, lat, z).x\n",
    "        y = mercantile.tile(lon, lat, z).y\n",
    "        rgb_tile = requests.get(f\"https://api.mapbox.com/v4/mapbox.terrain-rgb/{z}/{x}/{y}.pngraw?access_token=pk.eyJ1IjoibWFydGltcGFzc29zIiwiYSI6ImNra3pmN2QxajBiYWUycW55N3E1dG1tcTEifQ.JFKSI85oP7M2gbeUTaUfQQ\")\n",
    "        array = Image.open(rgb_tile.content)\n",
    "        print(array)\n",
    "        return array"
   ]
  },
  {
   "cell_type": "code",
   "execution_count": 20,
   "metadata": {},
   "outputs": [
    {
     "output_type": "error",
     "ename": "UnboundLocalError",
     "evalue": "local variable 'lon' referenced before assignment",
     "traceback": [
      "\u001b[0;31m---------------------------------------------------------------------------\u001b[0m",
      "\u001b[0;31mUnboundLocalError\u001b[0m                         Traceback (most recent call last)",
      "\u001b[0;32m<ipython-input-20-e139f25ff33a>\u001b[0m in \u001b[0;36m<module>\u001b[0;34m\u001b[0m\n\u001b[0;32m----> 1\u001b[0;31m \u001b[0mcorrect_altitude_mode\u001b[0m\u001b[0;34m(\u001b[0m\u001b[0;34m)\u001b[0m\u001b[0;34m\u001b[0m\u001b[0;34m\u001b[0m\u001b[0m\n\u001b[0m",
      "\u001b[0;32m<ipython-input-19-d93cc6e0bb8b>\u001b[0m in \u001b[0;36mcorrect_altitude_mode\u001b[0;34m()\u001b[0m\n\u001b[1;32m      7\u001b[0m             \u001b[0malt\u001b[0m \u001b[0;34m=\u001b[0m \u001b[0mfloat\u001b[0m\u001b[0;34m(\u001b[0m\u001b[0mfind_with_re\u001b[0m\u001b[0;34m(\u001b[0m\u001b[0;34m\"altitude\"\u001b[0m\u001b[0;34m,\u001b[0m \u001b[0mtxt\u001b[0m\u001b[0;34m)\u001b[0m\u001b[0;34m)\u001b[0m\u001b[0;34m\u001b[0m\u001b[0;34m\u001b[0m\u001b[0m\n\u001b[1;32m      8\u001b[0m         \u001b[0mz\u001b[0m \u001b[0;34m=\u001b[0m \u001b[0;36m15\u001b[0m\u001b[0;34m\u001b[0m\u001b[0;34m\u001b[0m\u001b[0m\n\u001b[0;32m----> 9\u001b[0;31m         \u001b[0mx\u001b[0m \u001b[0;34m=\u001b[0m \u001b[0mmercantile\u001b[0m\u001b[0;34m.\u001b[0m\u001b[0mtile\u001b[0m\u001b[0;34m(\u001b[0m\u001b[0mlon\u001b[0m\u001b[0;34m,\u001b[0m \u001b[0mlat\u001b[0m\u001b[0;34m,\u001b[0m \u001b[0mz\u001b[0m\u001b[0;34m)\u001b[0m\u001b[0;34m.\u001b[0m\u001b[0mx\u001b[0m\u001b[0;34m\u001b[0m\u001b[0;34m\u001b[0m\u001b[0m\n\u001b[0m\u001b[1;32m     10\u001b[0m         \u001b[0my\u001b[0m \u001b[0;34m=\u001b[0m \u001b[0mmercantile\u001b[0m\u001b[0;34m.\u001b[0m\u001b[0mtile\u001b[0m\u001b[0;34m(\u001b[0m\u001b[0mlon\u001b[0m\u001b[0;34m,\u001b[0m \u001b[0mlat\u001b[0m\u001b[0;34m,\u001b[0m \u001b[0mz\u001b[0m\u001b[0;34m)\u001b[0m\u001b[0;34m.\u001b[0m\u001b[0my\u001b[0m\u001b[0;34m\u001b[0m\u001b[0;34m\u001b[0m\u001b[0m\n\u001b[1;32m     11\u001b[0m         \u001b[0mrgb_tile\u001b[0m \u001b[0;34m=\u001b[0m \u001b[0mrequests\u001b[0m\u001b[0;34m.\u001b[0m\u001b[0mget\u001b[0m\u001b[0;34m(\u001b[0m\u001b[0;34mf\"https://api.mapbox.com/v4/mapbox.terrain-rgb/{z}/{x}/{y}.pngraw?access_token=pk.eyJ1IjoibWFydGltcGFzc29zIiwiYSI6ImNra3pmN2QxajBiYWUycW55N3E1dG1tcTEifQ.JFKSI85oP7M2gbeUTaUfQQ\"\u001b[0m\u001b[0;34m)\u001b[0m\u001b[0;34m\u001b[0m\u001b[0;34m\u001b[0m\u001b[0m\n",
      "\u001b[0;31mUnboundLocalError\u001b[0m: local variable 'lon' referenced before assignment"
     ]
    }
   ],
   "source": [
    "correct_altitude_mode()"
   ]
  },
  {
   "cell_type": "code",
   "execution_count": null,
   "metadata": {},
   "outputs": [],
   "source": []
  }
 ]
}